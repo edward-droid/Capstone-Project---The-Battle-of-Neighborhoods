{
 "cells": [
  {
   "cell_type": "markdown",
   "metadata": {},
   "source": [
    "# Restaurant Expansion to Toronto"
   ]
  },
  {
   "cell_type": "markdown",
   "metadata": {},
   "source": [
    "## Background:\n",
    "ABCD Brands (a fictional company) is a company that specializes restaurant brands that target many different customer segments. They have a variety of restaurant brands specializing in different food themes usually based on ethnicity or style of cooking. Their business model is similar to other well-known restaurant brand companies such as Darden Brands, Bloomin' Brands, Recipe Unlimited, and Yum! Brands. ABCD's diverse portfolio of restaurant brands focuses on different themes targeting the full range of low to high income groups and different ethnicities. In order for restaurant brand companies like ABCD to grow, they must acquire new brands, develop new brands internally, or expand into new geographic markets to fully monetize their existing brands' potential.  "
   ]
  },
  {
   "cell_type": "markdown",
   "metadata": {},
   "source": [
    "## Problem:\n",
    "ABCD would like to expand geographically to set up their first restaurant brand in Toronto. However, the city is large and some areas may be saturated since the city is already well-known for the number and variety of restaurants in the city. Furthermore, these days the competitors for a restaurant not only consists of other restaurants, but can also consist of any source that provides food such as food trucks, supermarket cafeterias, food courts and take-out-only businesses just to name a few. Another major factor that can affect a restaurant's success in Toronto would be the ethnic characteristic of the neighborhood that is chosen as a location. Toronto was considered the most multicultural city in the world by BBC Radio in 2016 with 51% of its population not born in Canada and about 230 different nationalities represented so each neighborhood can have a vastly different ethnic characteristic. Lastly, the income demographic of the neighborhood will determine the average resident's purchasing power in the neighborhood which can determine whether a restaurant should sell cheap-priced food or sell expensive-priced food. This project will determine the best location for ABCD to set up their first restaurant in Toronto and the type of restaurant based on ethnicity. As well, the study will determine the target price range to focus their product on."
   ]
  }
 ],
 "metadata": {
  "kernelspec": {
   "display_name": "Python 3",
   "language": "python",
   "name": "python3"
  },
  "language_info": {
   "codemirror_mode": {
    "name": "ipython",
    "version": 3
   },
   "file_extension": ".py",
   "mimetype": "text/x-python",
   "name": "python",
   "nbconvert_exporter": "python",
   "pygments_lexer": "ipython3",
   "version": "3.8.3"
  }
 },
 "nbformat": 4,
 "nbformat_minor": 4
}
