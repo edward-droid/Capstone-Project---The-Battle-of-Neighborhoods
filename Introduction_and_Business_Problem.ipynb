{
 "cells": [
  {
   "cell_type": "markdown",
   "metadata": {},
   "source": [
    "# Restaurant Expansion to Toronto"
   ]
  },
  {
   "cell_type": "markdown",
   "metadata": {},
   "source": [
    "## Background:\n",
    "\n",
    "Toronto is North America's fourth largest city with approximately 2.8 million people and it was considered the most multicultural city in the world by BBC Radio in 2016 with 51% of its population not born in Canada and about 230 different nationalities represented within the city. Hence, each neighborhood can have a vastly different ethnic characteristic. Also, being Canada's largest city, the income level can also be very different between neighborhoods. As a result, the location where a new restaurant is set up and the ethnic type of food being served can greatly determine the success of the business.  The City of Toronto divides itself into 25 different wards so detailed data for each ward is available from the city. This information can be used to uncover information about the demographic and economic characteristic of each ward. Therefore, it is extremely important to understand the demographic and economic characteristics of a neighborhood in Toronto before choosing the location and ethnic type of restaurant to set up. "
   ]
  },
  {
   "cell_type": "markdown",
   "metadata": {},
   "source": [
    "## Problem:\n",
    "Any data that might assist in understanding the demographic and economic characteristics of Toronto's wards will help in choosing the right neighborhood to set up a new restaurant. Setting up a business in Toronto without researching the characteristics of Toronto's diverse wards can lead to failure of the restaurant if the wrong neighborhood and wrong type of ethnic cuisine is chosen. This project will determine the best ward in the city to set up a new restaurant and the type of ethnic cuisine to focus on based on demographic and economic data of Toronto's wards. In addition, these days the competitors for a restaurant not only consists of other restaurants, but can also consist of any source that provides food such as food trucks, supermarket cafeterias, food courts and take-out-only businesses just to name a few. It is necessary to get a clear picture of all the food service establishments, not only restaurants in each ward. Lastly, the income demographic of the neighborhood can also determine the average resident's purchasing power in the neighborhood which can determine whether a restaurant should sell cheap-priced food or sell expensive-priced food. This project will determine the best location to set up a restaurant in Toronto and the type of restaurant based on ethnicity. As well, the study will determine the target price range for a new restaurant."
   ]
  },
  {
   "cell_type": "markdown",
   "metadata": {},
   "source": [
    "## Target Audience:\n",
    "This report is targeted to investors looking to set up an ethnic-themed restaurant in Toronto but who do not yet know what area to locate or what type of product to offer. Once the investor finishes reading this report, the investor will know which neighborhood, what type of ethnic cuisine, and what pricing to use for his/her new restaurant. "
   ]
  },
  {
   "cell_type": "code",
   "execution_count": null,
   "metadata": {},
   "outputs": [],
   "source": []
  }
 ],
 "metadata": {
  "kernelspec": {
   "display_name": "Python 3",
   "language": "python",
   "name": "python3"
  },
  "language_info": {
   "codemirror_mode": {
    "name": "ipython",
    "version": 3
   },
   "file_extension": ".py",
   "mimetype": "text/x-python",
   "name": "python",
   "nbconvert_exporter": "python",
   "pygments_lexer": "ipython3",
   "version": "3.8.3"
  }
 },
 "nbformat": 4,
 "nbformat_minor": 4
}
